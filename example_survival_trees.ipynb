{
 "cells": [
  {
   "cell_type": "code",
   "execution_count": 21,
   "metadata": {},
   "outputs": [],
   "source": [
    "from hacks import sksurv_model_hack, plot_survival_function, normalize\n",
    "from sksurv.tree import SurvivalTree\n",
    "from sksurv.preprocessing import OneHotEncoder\n",
    "from sksurv.datasets import load_veterans_lung_cancer\n",
    "from sksurv.metrics import concordance_index_censored\n",
    "from concrete.ml.sklearn import DecisionTreeRegressor as FHE_DecisionTreeRegressor\n",
    "import matplotlib.pyplot as plt\n",
    "import random\n",
    "import numpy as np"
   ]
  },
  {
   "cell_type": "markdown",
   "metadata": {},
   "source": [
    "#### Train the model as usual with sksurv"
   ]
  },
  {
   "cell_type": "code",
   "execution_count": 22,
   "metadata": {},
   "outputs": [
    {
     "data": {
      "text/html": [
       "<div>\n",
       "<style scoped>\n",
       "    .dataframe tbody tr th:only-of-type {\n",
       "        vertical-align: middle;\n",
       "    }\n",
       "\n",
       "    .dataframe tbody tr th {\n",
       "        vertical-align: top;\n",
       "    }\n",
       "\n",
       "    .dataframe thead th {\n",
       "        text-align: right;\n",
       "    }\n",
       "</style>\n",
       "<table border=\"1\" class=\"dataframe\">\n",
       "  <thead>\n",
       "    <tr style=\"text-align: right;\">\n",
       "      <th></th>\n",
       "      <th>Age_in_years</th>\n",
       "      <th>Celltype</th>\n",
       "      <th>Karnofsky_score</th>\n",
       "      <th>Months_from_Diagnosis</th>\n",
       "      <th>Prior_therapy</th>\n",
       "      <th>Treatment</th>\n",
       "    </tr>\n",
       "  </thead>\n",
       "  <tbody>\n",
       "    <tr>\n",
       "      <th>133</th>\n",
       "      <td>64.0</td>\n",
       "      <td>large</td>\n",
       "      <td>60.0</td>\n",
       "      <td>5.0</td>\n",
       "      <td>no</td>\n",
       "      <td>test</td>\n",
       "    </tr>\n",
       "    <tr>\n",
       "      <th>23</th>\n",
       "      <td>65.0</td>\n",
       "      <td>smallcell</td>\n",
       "      <td>30.0</td>\n",
       "      <td>2.0</td>\n",
       "      <td>no</td>\n",
       "      <td>standard</td>\n",
       "    </tr>\n",
       "    <tr>\n",
       "      <th>81</th>\n",
       "      <td>58.0</td>\n",
       "      <td>squamous</td>\n",
       "      <td>70.0</td>\n",
       "      <td>13.0</td>\n",
       "      <td>no</td>\n",
       "      <td>test</td>\n",
       "    </tr>\n",
       "  </tbody>\n",
       "</table>\n",
       "</div>"
      ],
      "text/plain": [
       "     Age_in_years   Celltype  Karnofsky_score  Months_from_Diagnosis  \\\n",
       "133          64.0      large             60.0                    5.0   \n",
       "23           65.0  smallcell             30.0                    2.0   \n",
       "81           58.0   squamous             70.0                   13.0   \n",
       "\n",
       "    Prior_therapy Treatment  \n",
       "133            no      test  \n",
       "23             no  standard  \n",
       "81             no      test  "
      ]
     },
     "execution_count": 22,
     "metadata": {},
     "output_type": "execute_result"
    }
   ],
   "source": [
    "X, y = load_veterans_lung_cancer()\n",
    "X.sample(3)"
   ]
  },
  {
   "cell_type": "code",
   "execution_count": 23,
   "metadata": {},
   "outputs": [
    {
     "data": {
      "text/plain": [
       "(137, 6)"
      ]
     },
     "execution_count": 23,
     "metadata": {},
     "output_type": "execute_result"
    }
   ],
   "source": [
    "X.shape"
   ]
  },
  {
   "cell_type": "markdown",
   "metadata": {},
   "source": [
    "The target as usual in survival models is represented as pairs `(censored, time-of-event)`. Censored means if the event happend or not at the time present in the target. "
   ]
  },
  {
   "cell_type": "code",
   "execution_count": 24,
   "metadata": {},
   "outputs": [
    {
     "data": {
      "text/plain": [
       "array([( True,  72.), ( True, 411.), ( True, 228.), ( True, 126.),\n",
       "       ( True, 118.), ( True,  10.), ( True,  82.), ( True, 110.),\n",
       "       ( True, 314.), (False, 100.)],\n",
       "      dtype=[('Status', '?'), ('Survival_in_days', '<f8')])"
      ]
     },
     "execution_count": 24,
     "metadata": {},
     "output_type": "execute_result"
    }
   ],
   "source": [
    "y[:10]"
   ]
  },
  {
   "cell_type": "code",
   "execution_count": 25,
   "metadata": {},
   "outputs": [
    {
     "data": {
      "text/plain": [
       "'From a total of 137 observations, 128 are not censored, minimum suvival in days is 1 and maximum 999. A total of 101 different time point observations is in the dataset.'"
      ]
     },
     "execution_count": 25,
     "metadata": {},
     "output_type": "execute_result"
    }
   ],
   "source": [
    "y_true = y[y[\"Status\"]==True]\n",
    "f\"From a total of {y.shape[0]} observations, {y_true.shape[0]} are not censored, \\\n",
    "minimum suvival in days is {int(min(y['Survival_in_days']))} and maximum {int(max(y_true['Survival_in_days']))}. \\\n",
    "A total of {np.unique(y['Survival_in_days']).shape[0]} different time point observations is in the dataset.\""
   ]
  },
  {
   "cell_type": "markdown",
   "metadata": {},
   "source": [
    "We have to transform the categorical features to numerical. "
   ]
  },
  {
   "cell_type": "code",
   "execution_count": 26,
   "metadata": {},
   "outputs": [
    {
     "data": {
      "text/plain": [
       "(137, 8)"
      ]
     },
     "execution_count": 26,
     "metadata": {},
     "output_type": "execute_result"
    }
   ],
   "source": [
    "X_num = OneHotEncoder().fit_transform(X)\n",
    "X_num.shape"
   ]
  },
  {
   "cell_type": "code",
   "execution_count": 27,
   "metadata": {},
   "outputs": [
    {
     "ename": "TypeError",
     "evalue": "get_params_patched() got an unexpected keyword argument 'deep'",
     "output_type": "error",
     "traceback": [
      "\u001b[31m---------------------------------------------------------------------------\u001b[39m",
      "\u001b[31mTypeError\u001b[39m                                 Traceback (most recent call last)",
      "\u001b[36mCell\u001b[39m\u001b[36m \u001b[39m\u001b[32mIn[27]\u001b[39m\u001b[32m, line 2\u001b[39m\n\u001b[32m      1\u001b[39m st = SurvivalTree()\n\u001b[32m----> \u001b[39m\u001b[32m2\u001b[39m \u001b[43mst\u001b[49m\u001b[43m.\u001b[49m\u001b[43mfit\u001b[49m\u001b[43m(\u001b[49m\u001b[43mX_num\u001b[49m\u001b[43m,\u001b[49m\u001b[43m \u001b[49m\u001b[43my\u001b[49m\u001b[43m)\u001b[49m\n",
      "\u001b[36mFile \u001b[39m\u001b[32m~/Desktop/code/irycis/SECURED/sksurv-concreteml/.venv/lib/python3.11/site-packages/sksurv/tree/tree.py:279\u001b[39m, in \u001b[36mSurvivalTree.fit\u001b[39m\u001b[34m(self, X, y, sample_weight, check_input)\u001b[39m\n\u001b[32m    252\u001b[39m \u001b[38;5;28;01mdef\u001b[39;00m\u001b[38;5;250m \u001b[39m\u001b[34mfit\u001b[39m(\u001b[38;5;28mself\u001b[39m, X, y, sample_weight=\u001b[38;5;28;01mNone\u001b[39;00m, check_input=\u001b[38;5;28;01mTrue\u001b[39;00m):\n\u001b[32m    253\u001b[39m \u001b[38;5;250m    \u001b[39m\u001b[33;03m\"\"\"Build a survival tree from the training set (X, y).\u001b[39;00m\n\u001b[32m    254\u001b[39m \n\u001b[32m    255\u001b[39m \u001b[33;03m    If ``splitter='best'``, `X` is allowed to contain missing\u001b[39;00m\n\u001b[32m   (...)\u001b[39m\u001b[32m    277\u001b[39m \u001b[33;03m    self\u001b[39;00m\n\u001b[32m    278\u001b[39m \u001b[33;03m    \"\"\"\u001b[39;00m\n\u001b[32m--> \u001b[39m\u001b[32m279\u001b[39m     \u001b[38;5;28;43mself\u001b[39;49m\u001b[43m.\u001b[49m\u001b[43m_fit\u001b[49m\u001b[43m(\u001b[49m\u001b[43mX\u001b[49m\u001b[43m,\u001b[49m\u001b[43m \u001b[49m\u001b[43my\u001b[49m\u001b[43m,\u001b[49m\u001b[43m \u001b[49m\u001b[43msample_weight\u001b[49m\u001b[43m,\u001b[49m\u001b[43m \u001b[49m\u001b[43mcheck_input\u001b[49m\u001b[43m)\u001b[49m\n\u001b[32m    280\u001b[39m     \u001b[38;5;28;01mreturn\u001b[39;00m \u001b[38;5;28mself\u001b[39m\n",
      "\u001b[36mFile \u001b[39m\u001b[32m~/Desktop/code/irycis/SECURED/sksurv-concreteml/.venv/lib/python3.11/site-packages/sksurv/tree/tree.py:301\u001b[39m, in \u001b[36mSurvivalTree._fit\u001b[39m\u001b[34m(self, X, y, sample_weight, check_input, missing_values_in_feature_mask)\u001b[39m\n\u001b[32m    298\u001b[39m     y_numeric, \u001b[38;5;28mself\u001b[39m.unique_times_, \u001b[38;5;28mself\u001b[39m.is_event_time_ = y\n\u001b[32m    300\u001b[39m n_samples, \u001b[38;5;28mself\u001b[39m.n_features_in_ = X.shape\n\u001b[32m--> \u001b[39m\u001b[32m301\u001b[39m params = \u001b[38;5;28;43mself\u001b[39;49m\u001b[43m.\u001b[49m\u001b[43m_check_params\u001b[49m\u001b[43m(\u001b[49m\u001b[43mn_samples\u001b[49m\u001b[43m)\u001b[49m\n\u001b[32m    303\u001b[39m \u001b[38;5;28;01mif\u001b[39;00m \u001b[38;5;28mself\u001b[39m.low_memory:\n\u001b[32m    304\u001b[39m     \u001b[38;5;28mself\u001b[39m.n_outputs_ = \u001b[32m1\u001b[39m\n",
      "\u001b[36mFile \u001b[39m\u001b[32m~/Desktop/code/irycis/SECURED/sksurv-concreteml/.venv/lib/python3.11/site-packages/sksurv/tree/tree.py:356\u001b[39m, in \u001b[36mSurvivalTree._check_params\u001b[39m\u001b[34m(self, n_samples)\u001b[39m\n\u001b[32m    355\u001b[39m \u001b[38;5;28;01mdef\u001b[39;00m\u001b[38;5;250m \u001b[39m\u001b[34m_check_params\u001b[39m(\u001b[38;5;28mself\u001b[39m, n_samples):\n\u001b[32m--> \u001b[39m\u001b[32m356\u001b[39m     \u001b[38;5;28;43mself\u001b[39;49m\u001b[43m.\u001b[49m\u001b[43m_validate_params\u001b[49m\u001b[43m(\u001b[49m\u001b[43m)\u001b[49m\n\u001b[32m    358\u001b[39m     \u001b[38;5;66;03m# Check parameters\u001b[39;00m\n\u001b[32m    359\u001b[39m     max_depth = (\u001b[32m2\u001b[39m**\u001b[32m31\u001b[39m) - \u001b[32m1\u001b[39m \u001b[38;5;28;01mif\u001b[39;00m \u001b[38;5;28mself\u001b[39m.max_depth \u001b[38;5;129;01mis\u001b[39;00m \u001b[38;5;28;01mNone\u001b[39;00m \u001b[38;5;28;01melse\u001b[39;00m \u001b[38;5;28mself\u001b[39m.max_depth\n",
      "\u001b[36mFile \u001b[39m\u001b[32m~/Desktop/code/irycis/SECURED/sksurv-concreteml/.venv/lib/python3.11/site-packages/sklearn/base.py:668\u001b[39m, in \u001b[36mBaseEstimator._validate_params\u001b[39m\u001b[34m(self)\u001b[39m\n\u001b[32m    658\u001b[39m \u001b[38;5;28;01mdef\u001b[39;00m\u001b[38;5;250m \u001b[39m\u001b[34m_validate_params\u001b[39m(\u001b[38;5;28mself\u001b[39m):\n\u001b[32m    659\u001b[39m \u001b[38;5;250m    \u001b[39m\u001b[33;03m\"\"\"Validate types and values of constructor parameters\u001b[39;00m\n\u001b[32m    660\u001b[39m \n\u001b[32m    661\u001b[39m \u001b[33;03m    The expected type and values must be defined in the `_parameter_constraints`\u001b[39;00m\n\u001b[32m   (...)\u001b[39m\u001b[32m    664\u001b[39m \u001b[33;03m    accepted constraints.\u001b[39;00m\n\u001b[32m    665\u001b[39m \u001b[33;03m    \"\"\"\u001b[39;00m\n\u001b[32m    666\u001b[39m     validate_parameter_constraints(\n\u001b[32m    667\u001b[39m         \u001b[38;5;28mself\u001b[39m._parameter_constraints,\n\u001b[32m--> \u001b[39m\u001b[32m668\u001b[39m         \u001b[38;5;28;43mself\u001b[39;49m\u001b[43m.\u001b[49m\u001b[43mget_params\u001b[49m\u001b[43m(\u001b[49m\u001b[43mdeep\u001b[49m\u001b[43m=\u001b[49m\u001b[38;5;28;43;01mFalse\u001b[39;49;00m\u001b[43m)\u001b[49m,\n\u001b[32m    669\u001b[39m         caller_name=\u001b[38;5;28mself\u001b[39m.\u001b[34m__class__\u001b[39m.\u001b[34m__name__\u001b[39m,\n\u001b[32m    670\u001b[39m     )\n",
      "\u001b[31mTypeError\u001b[39m: get_params_patched() got an unexpected keyword argument 'deep'"
     ]
    }
   ],
   "source": [
    "st = SurvivalTree()\n",
    "st.fit(X_num, y)"
   ]
  },
  {
   "cell_type": "code",
   "execution_count": null,
   "metadata": {},
   "outputs": [
    {
     "name": "stdout",
     "output_type": "stream",
     "text": [
      "[  1.   2.   3.   4.   7.   8.  10.  11.  12.  13.  15.  16.  18.  19.\n",
      "  20.  21.  22.  24.  25.  27.  29.  30.  31.  33.  35.  36.  42.  43.\n",
      "  44.  45.  48.  49.  51.  52.  53.  54.  56.  59.  61.  63.  72.  73.\n",
      "  80.  82.  83.  84.  87.  90.  92.  95.  97.  99. 100. 103. 105. 110.\n",
      " 111. 112. 117. 118. 122. 123. 126. 132. 133. 139. 140. 143. 144. 151.\n",
      " 153. 156. 162. 164. 177. 182. 186. 200. 201. 216. 228. 231. 242. 250.\n",
      " 260. 278. 283. 287. 314. 340. 357. 378. 384. 389. 392. 411. 467. 553.\n",
      " 587. 991. 999.] 101\n"
     ]
    }
   ],
   "source": [
    "time_points = st.unique_times_\n",
    "print(time_points, len(time_points))"
   ]
  },
  {
   "cell_type": "markdown",
   "metadata": {},
   "source": [
    "The survival tree is able to predict a survival function for a patient"
   ]
  },
  {
   "cell_type": "code",
   "execution_count": null,
   "metadata": {},
   "outputs": [
    {
     "data": {
      "image/png": "[encoded data removed]",
      "text/plain": [
       "<Figure size 500x300 with 1 Axes>"
      ]
     },
     "metadata": {},
     "output_type": "display_data"
    }
   ],
   "source": [
    "# Take a single random patient. \n",
    "some_index = random.randint(0, X_num.shape[0] -1)\n",
    "some_patient = X_num.iloc[some_index, :]\n",
    "\n",
    "# Get a `StepFunction` for the given patient representing the survival function. \n",
    "surv = st.predict_survival_function(some_patient.values.reshape(1, -1))\n",
    "\n",
    "# Plot the survival function for the patient\n",
    "points_range = np.arange(0, max(time_points), 1)\n",
    "risk_points = surv[0](points_range) #Index 0 as we have a single prediction. \n",
    "plot_survival_function(points_range, risk_points, f\"patient_{some_index}\") "
   ]
  },
  {
   "cell_type": "code",
   "execution_count": null,
   "metadata": {},
   "outputs": [
    {
     "data": {
      "text/plain": [
       "(1, 101, 2)"
      ]
     },
     "execution_count": 10,
     "metadata": {},
     "output_type": "execute_result"
    }
   ],
   "source": [
    "internal_prediction = st.tree_.predict(some_patient.values.reshape(1, -1).astype(np.float32))\n",
    "internal_prediction.shape"
   ]
  },
  {
   "cell_type": "code",
   "execution_count": null,
   "metadata": {},
   "outputs": [
    {
     "data": {
      "text/plain": [
       "array([1. , 1. , 1. , 1. , 1. , 1. , 1. , 1. , 1. , 1. , 1. , 1. , 1. ,\n",
       "       1. , 1. , 1. , 1. , 1. , 1. , 1. , 1. , 1. , 1. , 1. , 1. , 1. ,\n",
       "       1. , 0.8, 0.8, 0.8, 0.8, 0.8, 0.8, 0.6, 0.6, 0.6, 0.6, 0.6, 0.6,\n",
       "       0.6, 0.6, 0.6, 0.6, 0.6, 0.6, 0.6, 0.6, 0.6, 0.6, 0.6, 0.6, 0.6,\n",
       "       0.6, 0.6, 0.6, 0.6, 0.4, 0.4, 0.4, 0.4, 0.4, 0.4, 0.4, 0.4, 0.4,\n",
       "       0.4, 0.4, 0.4, 0.4, 0.4, 0.4, 0.4, 0.4, 0.4, 0.4, 0.4, 0.4, 0.4,\n",
       "       0.4, 0.2, 0.2, 0.2, 0.2, 0.2, 0.2, 0. , 0. , 0. , 0. , 0. , 0. ,\n",
       "       0. , 0. , 0. , 0. , 0. , 0. , 0. , 0. , 0. , 0. ])"
      ]
     },
     "execution_count": 11,
     "metadata": {},
     "output_type": "execute_result"
    }
   ],
   "source": [
    "internal_prediction[0, :, 1]"
   ]
  },
  {
   "cell_type": "markdown",
   "metadata": {},
   "source": [
    "For a global evaluation, we can use Harrell’s concordance index or c-index. The interpretation is identical to the traditional area under the ROC curve metric for binary classification:\n",
    "\n",
    "- a value of 0.5 denotes a random model,\n",
    "- a value of 1.0 denotes a perfect model,\n",
    "- a value of 0.0 denotes a perfectly wrong model."
   ]
  },
  {
   "cell_type": "code",
   "execution_count": null,
   "metadata": {},
   "outputs": [
    {
     "name": "stdout",
     "output_type": "stream",
     "text": [
      "90.99999999999997\n"
     ]
    },
    {
     "data": {
      "text/plain": [
       "'c-index is 0.82372'"
      ]
     },
     "execution_count": 12,
     "metadata": {},
     "output_type": "execute_result"
    }
   ],
   "source": [
    "predictions = st.predict(X_num)\n",
    "print(predictions[3])\n",
    "result = concordance_index_censored(y[\"Status\"], y[\"Survival_in_days\"], predictions)\n",
    "f\"c-index is {result[0]:.5f}\""
   ]
  },
  {
   "cell_type": "markdown",
   "metadata": {},
   "source": [
    "#### Prepare the model to be dealt with ConcreteML"
   ]
  },
  {
   "cell_type": "code",
   "execution_count": null,
   "metadata": {},
   "outputs": [],
   "source": [
    "st_hacked = sksurv_model_hack(st)"
   ]
  },
  {
   "cell_type": "markdown",
   "metadata": {},
   "source": [
    "#### Compile the model as usual with ConcreteML"
   ]
  },
  {
   "cell_type": "code",
   "execution_count": null,
   "metadata": {},
   "outputs": [],
   "source": [
    "model = FHE_DecisionTreeRegressor.from_sklearn_model(st_hacked, n_bits=4)"
   ]
  },
  {
   "cell_type": "code",
   "execution_count": null,
   "metadata": {},
   "outputs": [
    {
     "data": {
      "text/plain": [
       "<concrete.fhe.compilation.circuit.Circuit at 0x331919dd0>"
      ]
     },
     "execution_count": 15,
     "metadata": {},
     "output_type": "execute_result"
    }
   ],
   "source": [
    "model.compile(X_num)"
   ]
  },
  {
   "cell_type": "code",
   "execution_count": null,
   "metadata": {},
   "outputs": [],
   "source": [
    "predictions = model.predict(X_num, fhe=\"execute\")"
   ]
  },
  {
   "cell_type": "code",
   "execution_count": null,
   "metadata": {},
   "outputs": [
    {
     "data": {
      "text/plain": [
       "(137, 202)"
      ]
     },
     "execution_count": 17,
     "metadata": {},
     "output_type": "execute_result"
    }
   ],
   "source": [
    "predictions.shape"
   ]
  },
  {
   "cell_type": "markdown",
   "metadata": {},
   "source": [
    "The internals of the implementation of `SurvivalTree` use a regular tree regresor with multiple outputs, returning:\n",
    "- The cumulative hazard function (CHF)\n",
    "- The Survival Function (SF)\n",
    "\n",
    "So the size of the outputs is `_unique_times.shape[0] * 2` and it happens that both functions are \"mixed\" in the even and odd positions.\n",
    "\n",
    "The `SurvivalTree` disguised as a decision tree regressor is returning both functions with `predict`, so that we have to disentangle the two functions. "
   ]
  },
  {
   "cell_type": "code",
   "execution_count": null,
   "metadata": {},
   "outputs": [
    {
     "data": {
      "image/png": "[encoded data removed]",
      "text/plain": [
       "<Figure size 500x300 with 1 Axes>"
      ]
     },
     "metadata": {},
     "output_type": "display_data"
    }
   ],
   "source": [
    "prediction = predictions[some_index]\n",
    "cumulative_hazard =  prediction[0::2]\n",
    "survival_risk = prediction[1::2]\n",
    "plot_survival_function(points_range, risk_points, f\"patient_{some_index}\") "
   ]
  },
  {
   "cell_type": "code",
   "execution_count": null,
   "metadata": {},
   "outputs": [
    {
     "ename": "NameError",
     "evalue": "name 'np' is not defined",
     "output_type": "error",
     "traceback": [
      "\u001b[31m---------------------------------------------------------------------------\u001b[39m",
      "\u001b[31mNameError\u001b[39m                                 Traceback (most recent call last)",
      "\u001b[36mCell\u001b[39m\u001b[36m \u001b[39m\u001b[32mIn[20]\u001b[39m\u001b[32m, line 1\u001b[39m\n\u001b[32m----> \u001b[39m\u001b[32m1\u001b[39m survival_risk_normalized = \u001b[43mnormalize\u001b[49m\u001b[43m(\u001b[49m\u001b[43msurvival_risk\u001b[49m\u001b[43m)\u001b[49m\n\u001b[32m      2\u001b[39m plot_survival_function(points_range, survival_risk_normalized, \u001b[33mf\u001b[39m\u001b[33m\"\u001b[39m\u001b[33mpatient_\u001b[39m\u001b[38;5;132;01m{\u001b[39;00msome_index\u001b[38;5;132;01m}\u001b[39;00m\u001b[33m\"\u001b[39m) \n",
      "\u001b[36mFile \u001b[39m\u001b[32m~/Desktop/code/irycis/SECURED/sksurv-concreteml/hacks/util.py:12\u001b[39m, in \u001b[36mnormalize\u001b[39m\u001b[34m(values)\u001b[39m\n\u001b[32m     10\u001b[39m \u001b[38;5;28;01mdef\u001b[39;00m\u001b[38;5;250m \u001b[39m\u001b[34mnormalize\u001b[39m(values):\n\u001b[32m     11\u001b[39m \u001b[38;5;250m    \u001b[39m\u001b[33;03m\"\"\"Nomralize the values to be in the range [0, 1]\"\"\"\u001b[39;00m\n\u001b[32m---> \u001b[39m\u001b[32m12\u001b[39m     min_val = \u001b[43mnp\u001b[49m.min(values)\n\u001b[32m     13\u001b[39m     max_val = np.max(values)\n\u001b[32m     14\u001b[39m     \u001b[38;5;28;01mreturn\u001b[39;00m (values - min_val) / (max_val - min_val)\n",
      "\u001b[31mNameError\u001b[39m: name 'np' is not defined"
     ]
    }
   ],
   "source": [
    "survival_risk_normalized = normalize(survival_risk)\n",
    "plot_survival_function(points_range, survival_risk_normalized, f\"patient_{some_index}\") "
   ]
  },
  {
   "cell_type": "code",
   "execution_count": null,
   "metadata": {},
   "outputs": [
    {
     "data": {
      "text/plain": [
       "0.6404260562111936"
      ]
     },
     "execution_count": 20,
     "metadata": {},
     "output_type": "execute_result"
    }
   ],
   "source": [
    "def risk_score(cumulative_hazard):\n",
    "    return cumulative_hazard.sum()\n",
    "risk_score(cumulative_hazard)"
   ]
  },
  {
   "cell_type": "code",
   "execution_count": null,
   "metadata": {},
   "outputs": [
    {
     "data": {
      "text/plain": [
       "'0.81963'"
      ]
     },
     "execution_count": 21,
     "metadata": {},
     "output_type": "execute_result"
    }
   ],
   "source": [
    "predictions_as_risk_scores = [risk_score(prediction[0::2]) for prediction in predictions]\n",
    "result = concordance_index_censored(y[\"Status\"], y[\"Survival_in_days\"], predictions_as_risk_scores)\n",
    "f\"{result[0]:.5f}\""
   ]
  },
  {
   "cell_type": "code",
   "execution_count": null,
   "metadata": {},
   "outputs": [],
   "source": []
  }
 ],
 "metadata": {
  "kernelspec": {
   "display_name": ".venv",
   "language": "python",
   "name": "python3"
  },
  "language_info": {
   "codemirror_mode": {
    "name": "ipython",
    "version": 3
   },
   "file_extension": ".py",
   "mimetype": "text/x-python",
   "name": "python",
   "nbconvert_exporter": "python",
   "pygments_lexer": "ipython3",
   "version": "3.11.10"
  }
 },
 "nbformat": 4,
 "nbformat_minor": 2
}
